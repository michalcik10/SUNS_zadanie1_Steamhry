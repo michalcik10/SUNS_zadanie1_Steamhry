{
 "cells": [
  {
   "cell_type": "code",
   "execution_count": 5,
   "metadata": {
    "collapsed": true,
    "pycharm": {
     "name": "#%%\n"
    }
   },
   "outputs": [],
   "source": [
    "import pandas as pd\n",
    "import numpy as np\n",
    "import plotly.express as px\n",
    "import plotly.graph_objs as pg\n",
    "import plotly.figure_factory as ffc\n",
    "import tensorflow.keras.models as models\n",
    "import tensorflow.keras.layers as layers\n",
    "import tensorflow.keras.utils as utils\n",
    "import tensorflow.keras.optimizers as optimizers\n",
    "import tensorflow.keras.callbacks as callbacks\n"
   ]
  },
  {
   "cell_type": "code",
   "execution_count": 6,
   "outputs": [
    {
     "name": "stderr",
     "output_type": "stream",
     "text": [
      "C:\\Users\\micha\\AppData\\Local\\Temp\\ipykernel_6404\\233484134.py:1: DtypeWarning: Columns (7) have mixed types. Specify dtype option on import or set low_memory=False.\n",
      "  train_data = pd.read_csv('C:/Users/micha/Desktop/SUNS/zadanie1/Z1-data/train.csv')\n"
     ]
    }
   ],
   "source": [
    "\n",
    "train_data = pd.read_csv('C:/Users/micha/Desktop/SUNS/zadanie1/Z1-data/train.csv')"
   ],
   "metadata": {
    "collapsed": false,
    "pycharm": {
     "name": "#%%\n"
    }
   }
  },
  {
   "cell_type": "code",
   "execution_count": 7,
   "outputs": [
    {
     "name": "stdout",
     "output_type": "stream",
     "text": [
      "D_name                       96\n",
      "positive                      0\n",
      "negative                      0\n",
      "score                     15442\n",
      "D_reviews                     0\n",
      "D_owners                      0\n",
      "coming_soon                  53\n",
      "D_release_date            10546\n",
      "D_genre                    7245\n",
      "is_free                       0\n",
      "ccu                           0\n",
      "english                    7086\n",
      "languages                  7086\n",
      "D_tags                        0\n",
      "D_developer                7193\n",
      "D_publisher                7159\n",
      "publisher_est              7159\n",
      "developer_est              7193\n",
      "self_published                0\n",
      "has_dlc                       0\n",
      "has_website_linked            0\n",
      "has_controller_support        0\n",
      "is_single_player            156\n",
      "is_multi_player             156\n",
      "is_early_access               0\n",
      "mature_content                0\n",
      "Addictive                     0\n",
      "Beautiful                     0\n",
      "Classic                       0\n",
      "Competitive                   0\n",
      "Cult Classic                  0\n",
      "Difficult                     0\n",
      "Emotional                     0\n",
      "Epic                          0\n",
      "Funny                         0\n",
      "Lore-Rich                     0\n",
      "Masterpiece                   0\n",
      "Replay Value                  0\n",
      "Short                         0\n",
      "Well-Written                  0\n",
      "dtype: int64\n"
     ]
    }
   ],
   "source": [
    "train_data= train_data.drop(columns=['VYMAZAT_price'])\n",
    "train_data= train_data.drop(columns=['D_appid'])\n",
    "print(train_data.isna().sum())"
   ],
   "metadata": {
    "collapsed": false,
    "pycharm": {
     "name": "#%%\n"
    }
   }
  },
  {
   "cell_type": "code",
   "execution_count": 7,
   "outputs": [],
   "source": [],
   "metadata": {
    "collapsed": false,
    "pycharm": {
     "name": "#%%\n"
    }
   }
  }
 ],
 "metadata": {
  "kernelspec": {
   "display_name": "Python 3",
   "language": "python",
   "name": "python3"
  },
  "language_info": {
   "codemirror_mode": {
    "name": "ipython",
    "version": 2
   },
   "file_extension": ".py",
   "mimetype": "text/x-python",
   "name": "python",
   "nbconvert_exporter": "python",
   "pygments_lexer": "ipython2",
   "version": "2.7.6"
  }
 },
 "nbformat": 4,
 "nbformat_minor": 0
}
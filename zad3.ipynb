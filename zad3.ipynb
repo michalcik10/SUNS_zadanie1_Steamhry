{
  "cells": [
    {
      "cell_type": "markdown",
      "metadata": {
        "id": "view-in-github",
        "colab_type": "text"
      },
      "source": [
        "<a href=\"https://colab.research.google.com/github/michalcik10/SUNS_zadanie1_Steamhry/blob/main/zad3.ipynb\" target=\"_parent\"><img src=\"https://colab.research.google.com/assets/colab-badge.svg\" alt=\"Open In Colab\"/></a>"
      ]
    },
    {
      "cell_type": "code",
      "execution_count": 41,
      "metadata": {
        "id": "BpKKreacIidQ"
      },
      "outputs": [],
      "source": [
        "import os\n",
        "import tensorflow as tf\n",
        "from tensorflow.keras import layers \n",
        "from tensorflow.keras.callbacks import EarlyStopping, ModelCheckpoint\n",
        "import tensorflow.keras.optimizers as optimizer\n",
        "import matplotlib.pyplot as pl\n",
        "from google.colab.patches import cv2_imshow\n",
        "import numpy\n",
        "import pandas as pd\n",
        "import plotly.figure_factory as ffc\n",
        "from tensorflow.keras.applications.mobilenet_v2 import MobileNetV2, preprocess_input, decode_predictions\n",
        "from PIL import Image\n",
        "from sklearn.pipeline import make_pipeline\n",
        "from tensorflow.python.keras import backend as kb\n",
        "from tensorflow.keras.preprocessing.image import ImageDataGenerator\n",
        "from tensorflow.keras.models import Sequential\n",
        "from sklearn.metrics import confusion_matrix, accuracy_score, classification_report\n",
        "from sklearn.preprocessing import StandardScaler\n",
        "from sklearn.decomposition import PCA\n",
        "from sklearn.svm import SVC\n",
        "from tensorflow.keras.applications.vgg16 import VGG16\n",
        "from tensorflow.python.keras.models import Model\n",
        "from tensorflow.keras.preprocessing.image import load_img"
      ]
    },
    {
      "cell_type": "code",
      "execution_count": 5,
      "metadata": {
        "id": "DYhP_y5aQJ6H"
      },
      "outputs": [],
      "source": [
        "im_w =128 \n",
        "im_h = 128\n",
        "train_data_dir = '/content/drive/MyDrive/data-z3/train'\n",
        "validation_data_dir = '/content/drive/MyDrive/data-z3/valid'\n",
        "test_data_dir = '/content/drive/MyDrive/data-z3/test'\n",
        "batch_size = 20"
      ]
    },
    {
      "cell_type": "code",
      "execution_count": 6,
      "metadata": {
        "id": "FwA6dgNVTlpl",
        "colab": {
          "base_uri": "https://localhost:8080/"
        },
        "outputId": "a8fce19e-fc86-45e2-836e-fd548a43c41f"
      },
      "outputs": [
        {
          "output_type": "stream",
          "name": "stdout",
          "text": [
            "['giant slalom', 'snow boarding', 'lacrosse', 'surfing', 'bobsled', 'pole climbing', 'arm wrestling', 'golf', 'parallel bar', 'shuffleboard', 'baton twirling', 'uneven bars', 'pole vault', 'water cycling', 'roller derby', 'mushing', 'weightlifting', 'rowing', 'barell racing', 'hydroplane racing', 'field hockey', 'harness racing', 'football', 'canoe slamon', 'jousting', 'shot put', 'sidecar racing', 'disc golf', 'air hockey', 'sky surfing', 'motorcycle racing', 'baseball', 'ice yachting', 'ski jumping', 'cricket', 'horse racing', 'figure skating women', 'javelin', 'bowling', 'billiards', 'figure skating men', 'tug of war', 'horse jumping', 'basketball', 'frisbee', 'sumo wrestling', 'fly fishing', 'cheerleading', 'sailboat racing', 'bull riding', 'rock climbing', 'balance beam', 'polo', 'water polo', 'figure skating pairs', 'volleyball', 'rollerblade racing', 'high jump', 'hang gliding', 'formula 1 racing', 'hockey', 'table tennis', 'pommel horse', 'rugby', 'wingsuit flying', 'ampute football', 'fencing', 'ultimate', 'croquet', 'nascar racing', 'luge', 'bungee jumping', 'jai alai', 'hammer throw', 'rings', 'swimming', 'steer wrestling', 'bmx', 'wheelchair basketball', 'tennis', 'olympic wrestling', 'bike polo', 'snowmobile racing', 'curling', 'skydiving', 'log rolling', 'boxing', 'trapeze', 'archery', 'wheelchair racing', 'hurdles', 'chuckwagon racing', 'speed skating', 'track bicycle', 'pole dancing', 'horseshoe pitching', 'judo', 'gaga', 'axe throwing', 'ice climbing']\n",
            "Number of Classess: 100\n"
          ]
        }
      ],
      "source": [
        "class_names = os.listdir(train_data_dir)\n",
        "print(class_names)\n",
        "print(\"Number of Classess:\",len(class_names))"
      ]
    },
    {
      "cell_type": "code",
      "execution_count": 7,
      "metadata": {
        "id": "U2VpWxN7UAjs"
      },
      "outputs": [],
      "source": [
        "import cv2\n",
        "for direct in class_names:\n",
        "    im = cv2.imread(test_data_dir + '/' + direct + '/' + os.listdir(test_data_dir + '/' + direct)[0])\n",
        "    #cv2_imshow(im)\n"
      ]
    },
    {
      "cell_type": "code",
      "source": [
        "train_dataset = tf.keras.utils.image_dataset_from_directory(\n",
        "  train_data_dir,\n",
        "  image_size=(im_h, im_w),\n",
        "  batch_size=batch_size)\n",
        "\n",
        "validation_dataset = tf.keras.utils.image_dataset_from_directory(\n",
        "    validation_data_dir, \n",
        "    image_size=(im_h, im_w),\n",
        "    batch_size=batch_size)\n",
        "\n",
        "test_dataset = tf.keras.utils.image_dataset_from_directory(\n",
        "    test_data_dir, image_size=(im_w, im_h), batch_size=batch_size, shuffle=False)\n"
      ],
      "metadata": {
        "colab": {
          "base_uri": "https://localhost:8080/"
        },
        "id": "juCZX8i5f0I4",
        "outputId": "253fead4-a6ba-489f-8f56-89a30bd76976"
      },
      "execution_count": 8,
      "outputs": [
        {
          "output_type": "stream",
          "name": "stdout",
          "text": [
            "Found 13619 files belonging to 100 classes.\n",
            "Found 500 files belonging to 100 classes.\n",
            "Found 500 files belonging to 100 classes.\n"
          ]
        }
      ]
    },
    {
      "cell_type": "code",
      "source": [
        "print(train_dataset)"
      ],
      "metadata": {
        "colab": {
          "base_uri": "https://localhost:8080/"
        },
        "id": "tuVhH370vBci",
        "outputId": "8f59cd02-3163-48e9-aada-e87a1bfd9662"
      },
      "execution_count": 9,
      "outputs": [
        {
          "output_type": "stream",
          "name": "stdout",
          "text": [
            "<BatchDataset element_spec=(TensorSpec(shape=(None, 128, 128, 3), dtype=tf.float32, name=None), TensorSpec(shape=(None,), dtype=tf.int32, name=None))>\n"
          ]
        }
      ]
    },
    {
      "cell_type": "code",
      "source": [
        "train_datagen = ImageDataGenerator(\n",
        "    rescale=1./255,\n",
        "    shear_range=0.2,\n",
        "    zoom_range=0.2,\n",
        "    horizontal_flip=True,\n",
        "    validation_split=0.2)"
      ],
      "metadata": {
        "id": "ndilMv6GtbdV"
      },
      "execution_count": 10,
      "outputs": []
    },
    {
      "cell_type": "code",
      "source": [
        "train_generator = train_datagen.flow_from_directory(\n",
        "    directory=train_data_dir,\n",
        "    target_size=(im_w, im_h),\n",
        "    batch_size=batch_size,\n",
        "    color_mode=\"rgb\",\n",
        "    class_mode=\"categorical\"\n",
        ")"
      ],
      "metadata": {
        "colab": {
          "base_uri": "https://localhost:8080/"
        },
        "id": "JIMhpizQtUTT",
        "outputId": "da3b042b-5b5c-4ffa-ca75-0a7f91a6a439"
      },
      "execution_count": 11,
      "outputs": [
        {
          "output_type": "stream",
          "name": "stdout",
          "text": [
            "Found 13619 images belonging to 100 classes.\n"
          ]
        }
      ]
    },
    {
      "cell_type": "code",
      "source": [
        "validation_generator = train_datagen.flow_from_directory(\n",
        "    directory=validation_data_dir,\n",
        "    target_size=(im_w, im_h),\n",
        "    batch_size=batch_size,\n",
        "    color_mode=\"rgb\",\n",
        "    class_mode=\"categorical\"\n",
        ")"
      ],
      "metadata": {
        "colab": {
          "base_uri": "https://localhost:8080/"
        },
        "id": "5PpGk9YrtUv3",
        "outputId": "3e8bf7cc-69d7-43db-eb6a-6ab96faca2ee"
      },
      "execution_count": 12,
      "outputs": [
        {
          "output_type": "stream",
          "name": "stdout",
          "text": [
            "Found 500 images belonging to 100 classes.\n"
          ]
        }
      ]
    },
    {
      "cell_type": "code",
      "source": [
        "test_generator = train_datagen.flow_from_directory(\n",
        "    directory=test_data_dir,\n",
        "    target_size=(im_w, im_h),\n",
        "    batch_size=batch_size,\n",
        "    color_mode=\"rgb\",\n",
        "    class_mode=\"categorical\",\n",
        "    shuffle=False\n",
        ")"
      ],
      "metadata": {
        "colab": {
          "base_uri": "https://localhost:8080/"
        },
        "id": "89HajbGstU0e",
        "outputId": "8b2dd962-20ba-4799-f865-aff9c5d86c20"
      },
      "execution_count": 13,
      "outputs": [
        {
          "output_type": "stream",
          "name": "stdout",
          "text": [
            "Found 500 images belonging to 100 classes.\n"
          ]
        }
      ]
    },
    {
      "cell_type": "code",
      "source": [
        "class_names = list(train_generator.class_indices.keys()) \n",
        "print(class_names)"
      ],
      "metadata": {
        "colab": {
          "base_uri": "https://localhost:8080/"
        },
        "id": "y2-DLuJg3W0k",
        "outputId": "c622c92f-b79b-4b5a-fd4d-946680eee813"
      },
      "execution_count": 14,
      "outputs": [
        {
          "output_type": "stream",
          "name": "stdout",
          "text": [
            "['air hockey', 'ampute football', 'archery', 'arm wrestling', 'axe throwing', 'balance beam', 'barell racing', 'baseball', 'basketball', 'baton twirling', 'bike polo', 'billiards', 'bmx', 'bobsled', 'bowling', 'boxing', 'bull riding', 'bungee jumping', 'canoe slamon', 'cheerleading', 'chuckwagon racing', 'cricket', 'croquet', 'curling', 'disc golf', 'fencing', 'field hockey', 'figure skating men', 'figure skating pairs', 'figure skating women', 'fly fishing', 'football', 'formula 1 racing', 'frisbee', 'gaga', 'giant slalom', 'golf', 'hammer throw', 'hang gliding', 'harness racing', 'high jump', 'hockey', 'horse jumping', 'horse racing', 'horseshoe pitching', 'hurdles', 'hydroplane racing', 'ice climbing', 'ice yachting', 'jai alai', 'javelin', 'jousting', 'judo', 'lacrosse', 'log rolling', 'luge', 'motorcycle racing', 'mushing', 'nascar racing', 'olympic wrestling', 'parallel bar', 'pole climbing', 'pole dancing', 'pole vault', 'polo', 'pommel horse', 'rings', 'rock climbing', 'roller derby', 'rollerblade racing', 'rowing', 'rugby', 'sailboat racing', 'shot put', 'shuffleboard', 'sidecar racing', 'ski jumping', 'sky surfing', 'skydiving', 'snow boarding', 'snowmobile racing', 'speed skating', 'steer wrestling', 'sumo wrestling', 'surfing', 'swimming', 'table tennis', 'tennis', 'track bicycle', 'trapeze', 'tug of war', 'ultimate', 'uneven bars', 'volleyball', 'water cycling', 'water polo', 'weightlifting', 'wheelchair basketball', 'wheelchair racing', 'wingsuit flying']\n"
          ]
        }
      ]
    },
    {
      "cell_type": "code",
      "source": [
        "AUTOTUNE = tf.data.AUTOTUNE\n",
        "\n",
        "train_dataset = train_dataset.cache().shuffle(1000).prefetch(buffer_size=AUTOTUNE)\n",
        "validation_dataset = validation_dataset.cache().prefetch(buffer_size=AUTOTUNE)\n",
        "# test_dataset = test_dataset.prefetch(buffer_size=AUTOTUNE)"
      ],
      "metadata": {
        "id": "ch30IQ87CZxR"
      },
      "execution_count": 16,
      "outputs": []
    },
    {
      "cell_type": "code",
      "source": [
        "data_augmentation = Sequential(\n",
        "  [\n",
        "    layers.RandomFlip(\"horizontal\",\n",
        "                      input_shape=(im_h,\n",
        "                                  im_w,\n",
        "                                  3)),\n",
        "    layers.RandomRotation(0.1),\n",
        "    layers.RandomZoom(0.1),\n",
        "  ]\n",
        ")"
      ],
      "metadata": {
        "id": "ifNnd5xq7xkB"
      },
      "execution_count": 17,
      "outputs": []
    },
    {
      "cell_type": "code",
      "source": [
        "import matplotlib.pyplot as plt\n",
        "\n",
        "plt.figure(figsize=(10, 10))\n",
        "for images, labels in train_dataset.take(1):\n",
        "  for i in range(9):\n",
        "    ax = plt.subplot(3, 3, i + 1)\n",
        "    plt.imshow(images[i].numpy().astype(\"uint8\"))\n",
        "    plt.title(class_names[labels[i]])\n",
        "    plt.axis(\"off\")"
      ],
      "metadata": {
        "id": "7o7sy7gfLO_2"
      },
      "execution_count": null,
      "outputs": []
    },
    {
      "cell_type": "code",
      "source": [
        "model = MobileNetV2(\n",
        "    input_shape=None,\n",
        "    alpha=1.0,\n",
        "    include_top=True,\n",
        "    weights=\"imagenet\",\n",
        "    input_tensor=None,\n",
        "    pooling=None,\n",
        "    classes=1000,\n",
        "    classifier_activation=\"softmax\"\n",
        ")"
      ],
      "metadata": {
        "id": "bjlwvvOsG3d_",
        "outputId": "bf27861f-86f3-4873-a204-5132fd8e8d1a",
        "colab": {
          "base_uri": "https://localhost:8080/"
        }
      },
      "execution_count": 3,
      "outputs": [
        {
          "output_type": "stream",
          "name": "stdout",
          "text": [
            "Downloading data from https://storage.googleapis.com/tensorflow/keras-applications/mobilenet_v2/mobilenet_v2_weights_tf_dim_ordering_tf_kernels_1.0_224.h5\n",
            "14536120/14536120 [==============================] - 0s 0us/step\n"
          ]
        }
      ]
    },
    {
      "cell_type": "code",
      "source": [
        "data = numpy.empty((1, 224, 224, 3))\n",
        "data[0] = cv2.imread('/content/drive/MyDrive/data-z3/train/sky jumping/1.jpg')\n",
        "data = preprocess_input(data)\n",
        "\n",
        "predictions = model.predict(data)\n",
        "print('Shape: {}'.format(predictions.shape))"
      ],
      "metadata": {
        "id": "mzR5UhtqHxoM",
        "outputId": "c51ecbe2-1fe7-4417-95aa-96cc2f105f1e",
        "colab": {
          "base_uri": "https://localhost:8080/"
        }
      },
      "execution_count": 27,
      "outputs": [
        {
          "output_type": "stream",
          "name": "stdout",
          "text": [
            "1/1 [==============================] - 0s 23ms/step\n",
            "Shape: (1, 1000)\n"
          ]
        }
      ]
    },
    {
      "cell_type": "code",
      "source": [
        "output_neuron = numpy.argmax(predictions[0])\n",
        "print('Most active neuron: {} ({:.2f}%)'.format(\n",
        "    output_neuron,\n",
        "    100 * predictions[0][output_neuron]\n",
        "))"
      ],
      "metadata": {
        "id": "sLzeKAGGPQ0W",
        "outputId": "12ee9048-6424-4935-afce-82fe958e1a9a",
        "colab": {
          "base_uri": "https://localhost:8080/"
        }
      },
      "execution_count": 30,
      "outputs": [
        {
          "output_type": "stream",
          "name": "stdout",
          "text": [
            "Most active neuron: 0 (nan%)\n"
          ]
        }
      ]
    },
    {
      "cell_type": "code",
      "source": [
        "for name, desc, score in decode_predictions(predictions)[0]:\n",
        "    print('- {} ({:.2f}%%)'.format(desc, 100 * score))"
      ],
      "metadata": {
        "id": "Sjlqq7QrHxtZ",
        "outputId": "daac018c-520c-40c8-ddf7-f5934008b616",
        "colab": {
          "base_uri": "https://localhost:8080/"
        }
      },
      "execution_count": 28,
      "outputs": [
        {
          "output_type": "stream",
          "name": "stdout",
          "text": [
            "- toilet_tissue (nan%%)\n",
            "- sea_urchin (nan%%)\n",
            "- hog (nan%%)\n",
            "- zebra (nan%%)\n",
            "- sorrel (nan%%)\n"
          ]
        }
      ]
    },
    {
      "cell_type": "code",
      "source": [],
      "metadata": {
        "id": "906MadnCHxwx"
      },
      "execution_count": null,
      "outputs": []
    },
    {
      "cell_type": "code",
      "source": [],
      "metadata": {
        "id": "72ppcEbkHxz6"
      },
      "execution_count": null,
      "outputs": []
    },
    {
      "cell_type": "code",
      "source": [
        "if kb.image_data_format() == 'channels_first':\n",
        "    input_sh = (3, im_w, im_h)\n",
        "else:\n",
        "    input_sh = (im_w, im_h, 3)\n",
        "\n",
        "model1 = Sequential([\n",
        "  layers.RandomFlip(\"horizontal\", input_shape=input_sh),\n",
        "  layers.RandomRotation(0.1),\n",
        "  layers.RandomZoom(0.1),\n",
        "  layers.Rescaling(1./255),\n",
        "  layers.Conv2D(16, 3, padding='same', activation='relu', input_shape=input_sh),\n",
        "  layers.MaxPooling2D(),\n",
        "  layers.Conv2D(32, 3, padding='same', activation='relu'),\n",
        "  layers.MaxPooling2D(),\n",
        "  layers.Conv2D(128, 3, padding='same', activation='relu'),\n",
        "  layers.MaxPooling2D(),\n",
        "  layers.Dropout(0.4),\n",
        "  layers.Flatten(),\n",
        "  layers.Dense(128, activation='relu'),\n",
        "  layers.Dense(100, name=\"outputs\")])"
      ],
      "metadata": {
        "id": "Xd9lC-7p5B0G"
      },
      "execution_count": 32,
      "outputs": []
    },
    {
      "cell_type": "code",
      "source": [
        "model1.compile(optimizer='adam',\n",
        "              loss=tf.keras.losses.SparseCategoricalCrossentropy(from_logits=True),\n",
        "              metrics=['accuracy'])"
      ],
      "metadata": {
        "id": "AY6VXWdDlHa4"
      },
      "execution_count": 33,
      "outputs": []
    },
    {
      "cell_type": "code",
      "source": [
        "model1.summary()"
      ],
      "metadata": {
        "colab": {
          "base_uri": "https://localhost:8080/"
        },
        "id": "nLCZUHYFlHhY",
        "outputId": "7d54e299-ca12-4ed8-eb0b-2b8eb011b1a1"
      },
      "execution_count": 34,
      "outputs": [
        {
          "output_type": "stream",
          "name": "stdout",
          "text": [
            "Model: \"sequential_1\"\n",
            "_________________________________________________________________\n",
            " Layer (type)                Output Shape              Param #   \n",
            "=================================================================\n",
            " random_flip_2 (RandomFlip)  (None, 128, 128, 3)       0         \n",
            "                                                                 \n",
            " random_rotation_2 (RandomRo  (None, 128, 128, 3)      0         \n",
            " tation)                                                         \n",
            "                                                                 \n",
            " random_zoom_2 (RandomZoom)  (None, 128, 128, 3)       0         \n",
            "                                                                 \n",
            " rescaling_1 (Rescaling)     (None, 128, 128, 3)       0         \n",
            "                                                                 \n",
            " conv2d (Conv2D)             (None, 128, 128, 16)      448       \n",
            "                                                                 \n",
            " max_pooling2d (MaxPooling2D  (None, 64, 64, 16)       0         \n",
            " )                                                               \n",
            "                                                                 \n",
            " conv2d_1 (Conv2D)           (None, 64, 64, 32)        4640      \n",
            "                                                                 \n",
            " max_pooling2d_1 (MaxPooling  (None, 32, 32, 32)       0         \n",
            " 2D)                                                             \n",
            "                                                                 \n",
            " conv2d_2 (Conv2D)           (None, 32, 32, 128)       36992     \n",
            "                                                                 \n",
            " max_pooling2d_2 (MaxPooling  (None, 16, 16, 128)      0         \n",
            " 2D)                                                             \n",
            "                                                                 \n",
            " dropout (Dropout)           (None, 16, 16, 128)       0         \n",
            "                                                                 \n",
            " flatten (Flatten)           (None, 32768)             0         \n",
            "                                                                 \n",
            " dense (Dense)               (None, 128)               4194432   \n",
            "                                                                 \n",
            " outputs (Dense)             (None, 100)               12900     \n",
            "                                                                 \n",
            "=================================================================\n",
            "Total params: 4,249,412\n",
            "Trainable params: 4,249,412\n",
            "Non-trainable params: 0\n",
            "_________________________________________________________________\n"
          ]
        }
      ]
    },
    {
      "cell_type": "code",
      "source": [
        "checkpoint_filepath = '/tmp/checkpoint'\n",
        "model_checkpoint_callback = ModelCheckpoint(\n",
        "    filepath=checkpoint_filepath,\n",
        "    save_weights_only=True,\n",
        "    monitor='val_accuracy',\n",
        "    mode='max',\n",
        "    save_best_only=True)\n",
        "\n",
        "early_stopping = EarlyStopping(monitor='loss', patience=3)\n",
        "\n",
        "epochs = 15\n",
        "history = model1.fit(\n",
        "  train_dataset,\n",
        "  validation_data=validation_dataset,\n",
        "  epochs=epochs,\n",
        "  callbacks=[model_checkpoint_callback, early_stopping]\n",
        ")\n",
        "\n",
        "model1.load_weights(checkpoint_filepath)"
      ],
      "metadata": {
        "colab": {
          "base_uri": "https://localhost:8080/"
        },
        "id": "g-VYeYUulHjt",
        "outputId": "5103d95e-7588-4d79-c2c0-d299d99a5091"
      },
      "execution_count": 35,
      "outputs": [
        {
          "output_type": "stream",
          "name": "stdout",
          "text": [
            "Epoch 1/15\n",
            "681/681 [==============================] - 24s 30ms/step - loss: 4.0676 - accuracy: 0.0745 - val_loss: 3.8074 - val_accuracy: 0.1480\n",
            "Epoch 2/15\n",
            "681/681 [==============================] - 9s 14ms/step - loss: 3.2382 - accuracy: 0.2023 - val_loss: 3.4124 - val_accuracy: 0.2080\n",
            "Epoch 3/15\n",
            "681/681 [==============================] - 9s 13ms/step - loss: 2.8208 - accuracy: 0.2940 - val_loss: 2.5762 - val_accuracy: 0.3460\n",
            "Epoch 4/15\n",
            "681/681 [==============================] - 9s 14ms/step - loss: 2.5764 - accuracy: 0.3403 - val_loss: 2.5063 - val_accuracy: 0.4040\n",
            "Epoch 5/15\n",
            "681/681 [==============================] - 9s 14ms/step - loss: 2.3991 - accuracy: 0.3779 - val_loss: 2.3197 - val_accuracy: 0.4060\n",
            "Epoch 6/15\n",
            "681/681 [==============================] - 9s 14ms/step - loss: 2.2689 - accuracy: 0.4082 - val_loss: 2.2643 - val_accuracy: 0.4280\n",
            "Epoch 7/15\n",
            "681/681 [==============================] - 9s 13ms/step - loss: 2.1702 - accuracy: 0.4292 - val_loss: 2.2596 - val_accuracy: 0.4260\n",
            "Epoch 8/15\n",
            "681/681 [==============================] - 9s 13ms/step - loss: 2.0849 - accuracy: 0.4456 - val_loss: 1.9732 - val_accuracy: 0.4840\n",
            "Epoch 9/15\n",
            "681/681 [==============================] - 9s 14ms/step - loss: 2.0003 - accuracy: 0.4684 - val_loss: 2.2059 - val_accuracy: 0.4420\n",
            "Epoch 10/15\n",
            "681/681 [==============================] - 9s 14ms/step - loss: 1.9317 - accuracy: 0.4808 - val_loss: 1.9506 - val_accuracy: 0.4820\n",
            "Epoch 11/15\n",
            "681/681 [==============================] - 9s 14ms/step - loss: 1.8651 - accuracy: 0.5033 - val_loss: 1.8905 - val_accuracy: 0.4940\n",
            "Epoch 12/15\n",
            "681/681 [==============================] - 9s 14ms/step - loss: 1.7986 - accuracy: 0.5103 - val_loss: 1.7408 - val_accuracy: 0.5480\n",
            "Epoch 13/15\n",
            "681/681 [==============================] - 9s 13ms/step - loss: 1.7598 - accuracy: 0.5268 - val_loss: 1.8527 - val_accuracy: 0.5020\n",
            "Epoch 14/15\n",
            "681/681 [==============================] - 9s 13ms/step - loss: 1.7042 - accuracy: 0.5351 - val_loss: 1.8848 - val_accuracy: 0.5100\n",
            "Epoch 15/15\n",
            "681/681 [==============================] - 9s 14ms/step - loss: 1.6699 - accuracy: 0.5459 - val_loss: 1.7277 - val_accuracy: 0.5500\n"
          ]
        },
        {
          "output_type": "execute_result",
          "data": {
            "text/plain": [
              "<tensorflow.python.training.tracking.util.CheckpointLoadStatus at 0x7f8f08bcea30>"
            ]
          },
          "metadata": {},
          "execution_count": 35
        }
      ]
    },
    {
      "cell_type": "code",
      "source": [
        "import matplotlib.pyplot as plt\n",
        "\n",
        "acc = history.history['accuracy']\n",
        "val_acc = history.history['val_accuracy']\n",
        "\n",
        "loss = history.history['loss']\n",
        "val_loss = history.history['val_loss']\n",
        "\n",
        "epochs_range = range(epochs)\n",
        "\n",
        "plt.figure(figsize=(8, 8))\n",
        "plt.subplot(1, 2, 1)\n",
        "plt.plot(epochs_range, acc, label='Training Accuracy')\n",
        "plt.plot(epochs_range, val_acc, label='Validation Accuracy')\n",
        "plt.legend(loc='lower right')\n",
        "plt.title('Training and Validation Accuracy')\n",
        "\n",
        "plt.subplot(1, 2, 2)\n",
        "plt.plot(epochs_range, loss, label='Training Loss')\n",
        "plt.plot(epochs_range, val_loss, label='Validation Loss')\n",
        "plt.legend(loc='upper right')\n",
        "plt.title('Training and Validation Loss')\n",
        "plt.show()"
      ],
      "metadata": {
        "colab": {
          "base_uri": "https://localhost:8080/",
          "height": 499
        },
        "id": "y4IDeVkalHmD",
        "outputId": "4fb426f9-479a-4538-d3f0-401365ab159e"
      },
      "execution_count": 36,
      "outputs": [
        {
          "output_type": "display_data",
          "data": {
            "text/plain": [
              "<Figure size 576x576 with 2 Axes>"
            ],
            "image/png": "[encoded data removed]"
          },
          "metadata": {
            "needs_background": "light"
          }
        }
      ]
    },
    {
      "cell_type": "code",
      "source": [
        "y_predict_test = model1.predict(test_dataset)\n",
        "y_predict_test = numpy.argmax(y_predict_test, axis=1)\n",
        "print(y_predict_test)"
      ],
      "metadata": {
        "id": "GgBDzaa1I7K7",
        "outputId": "9c392967-14a5-4e74-fbac-6e1900cad83d",
        "colab": {
          "base_uri": "https://localhost:8080/"
        }
      },
      "execution_count": 38,
      "outputs": [
        {
          "output_type": "stream",
          "name": "stdout",
          "text": [
            "25/25 [==============================] - 9s 356ms/step\n",
            "[ 0  0  0  0  0  1 71 82  1  1  2  2 61 69  2 16  3 44  3 52  2  4  4 97\n",
            " 71  5  5  5  5  5 42 51 93  6  6  8 31 31  7  7  2 52  8 14 93 49 74 62\n",
            " 49  9 10 88 10 19 56 11 71 86 11 26 37 77 12 12 12 13 13 13 75 55 52 74\n",
            " 14 14 96 15 15 15 15 15 16 16 51 16 16 17 18 76 79 12 35 18 55 18 18 77\n",
            " 51 19 19 51 39 20 20 20 20 22 21 49 21 21 22 26 21 22  1 23 23 23 23 23\n",
            " 51 24 22 24 34  0 25 52 25 13 26 31 26 26 69 27 27 28 27 27 28 28  0 28\n",
            " 28 29 29 29 29 29 30 24 24 30 17 31  1 53 31 31 58 75 75 75 75 67 57 36\n",
            " 61 61 53 12 20  0 69 35 35 35 35 35 33 53 36  2 22 37 37 37 96 37 76 78\n",
            " 38 38 38 39 12 39 39 39 40 40 40 40 59 41 41 41 41 41 42 42 42 15 42 43\n",
            " 43 64 43 43 39  2  1 37 76 10 51 19 98 45 58 96 46 46 56 47 55 47 47 32\n",
            " 70 48 48 48 48 49 49 49 49 49 73  8 86 50 31 64 51 51 51 51 52 79 52 52\n",
            " 52 31 53 53 53 69 54 86 16 39 16 55 55 55 99 79 75 56 12 75 56 57 57 57\n",
            " 41 57 75 58 58 32 58 59 71 73 93 86 85 86 60 59 92 16 61 61 61 61 62 62\n",
            " 96 28 62 76 99 54 96 61 64 64 64 64 64 65 86 96 65 65 66 66 66  7 66 51\n",
            "  4 67 67 67 19 68 68 68 68 69 69 34 69 69 46 70 70 18 70 41 31 53 71  1\n",
            " 72 72 72 72 72 86 73 73  7 28 74 74 74 96 74 75 75 12 75 75 79 79 76 79\n",
            " 76 78 77 77 79 79 78 78 78 78 77 79 79 78 35 78 58 96 80 80 75 81 41 81\n",
            " 81 41 82 13 97 34 61 16  5  8  7 19 84 84 18 57 84 85 95 95 45 85 77  0\n",
            " 53 86 86 95 76 49 96 87 88 88 88 88 88 28 55 79 87 76  1 90 53 88 19 51\n",
            " 51 53 53 53 92 60 92 92 92 93 25 93 93 96 94 94 30 61 94 95 95 95 95 95\n",
            " 96 96 96 26 96 97 97 97 97 60 39 12 98 68 98 75 99 77 88 49]\n"
          ]
        }
      ]
    },
    {
      "cell_type": "code",
      "source": [
        "score = model1.evaluate(test_dataset)\n",
        "print(score)"
      ],
      "metadata": {
        "id": "1qUX_qupQqPy",
        "outputId": "47b6ec80-42f8-4e4f-c0cb-3e984cb839a3",
        "colab": {
          "base_uri": "https://localhost:8080/"
        }
      },
      "execution_count": 40,
      "outputs": [
        {
          "output_type": "stream",
          "name": "stdout",
          "text": [
            "25/25 [==============================] - 0s 9ms/step - loss: 1.7132 - accuracy: 0.5460\n",
            "[1.713182806968689, 0.5460000038146973]\n"
          ]
        }
      ]
    },
    {
      "cell_type": "code",
      "source": [
        "report = classification_report(test_dataset, y_predict_test, target_names=class_names)\n",
        "print(report) "
      ],
      "metadata": {
        "id": "s9DjSjWGQqf-",
        "outputId": "8b4e825b-94de-4f44-a158-2429c66a3ef0",
        "colab": {
          "base_uri": "https://localhost:8080/",
          "height": 371
        }
      },
      "execution_count": 42,
      "outputs": [
        {
          "output_type": "error",
          "ename": "ValueError",
          "evalue": "ignored",
          "traceback": [
            "\u001b[0;31m---------------------------------------------------------------------------\u001b[0m",
            "\u001b[0;31mValueError\u001b[0m                                Traceback (most recent call last)",
            "\u001b[0;32m<ipython-input-42-2c70fac39609>\u001b[0m in \u001b[0;36m<module>\u001b[0;34m\u001b[0m\n\u001b[0;32m----> 1\u001b[0;31m \u001b[0mreport\u001b[0m \u001b[0;34m=\u001b[0m \u001b[0mclassification_report\u001b[0m\u001b[0;34m(\u001b[0m\u001b[0mtest_dataset\u001b[0m\u001b[0;34m,\u001b[0m \u001b[0my_predict_test\u001b[0m\u001b[0;34m,\u001b[0m \u001b[0mtarget_names\u001b[0m\u001b[0;34m=\u001b[0m\u001b[0mclass_names\u001b[0m\u001b[0;34m)\u001b[0m\u001b[0;34m\u001b[0m\u001b[0;34m\u001b[0m\u001b[0m\n\u001b[0m\u001b[1;32m      2\u001b[0m \u001b[0mprint\u001b[0m\u001b[0;34m(\u001b[0m\u001b[0mreport\u001b[0m\u001b[0;34m)\u001b[0m\u001b[0;34m\u001b[0m\u001b[0;34m\u001b[0m\u001b[0m\n",
            "\u001b[0;32m/usr/local/lib/python3.8/dist-packages/sklearn/metrics/_classification.py\u001b[0m in \u001b[0;36mclassification_report\u001b[0;34m(y_true, y_pred, labels, target_names, sample_weight, digits, output_dict, zero_division)\u001b[0m\n\u001b[1;32m   2108\u001b[0m     \"\"\"\n\u001b[1;32m   2109\u001b[0m \u001b[0;34m\u001b[0m\u001b[0m\n\u001b[0;32m-> 2110\u001b[0;31m     \u001b[0my_type\u001b[0m\u001b[0;34m,\u001b[0m \u001b[0my_true\u001b[0m\u001b[0;34m,\u001b[0m \u001b[0my_pred\u001b[0m \u001b[0;34m=\u001b[0m \u001b[0m_check_targets\u001b[0m\u001b[0;34m(\u001b[0m\u001b[0my_true\u001b[0m\u001b[0;34m,\u001b[0m \u001b[0my_pred\u001b[0m\u001b[0;34m)\u001b[0m\u001b[0;34m\u001b[0m\u001b[0;34m\u001b[0m\u001b[0m\n\u001b[0m\u001b[1;32m   2111\u001b[0m \u001b[0;34m\u001b[0m\u001b[0m\n\u001b[1;32m   2112\u001b[0m     \u001b[0;32mif\u001b[0m \u001b[0mlabels\u001b[0m \u001b[0;32mis\u001b[0m \u001b[0;32mNone\u001b[0m\u001b[0;34m:\u001b[0m\u001b[0;34m\u001b[0m\u001b[0;34m\u001b[0m\u001b[0m\n",
            "\u001b[0;32m/usr/local/lib/python3.8/dist-packages/sklearn/metrics/_classification.py\u001b[0m in \u001b[0;36m_check_targets\u001b[0;34m(y_true, y_pred)\u001b[0m\n\u001b[1;32m     82\u001b[0m     \u001b[0my_pred\u001b[0m \u001b[0;34m:\u001b[0m \u001b[0marray\u001b[0m \u001b[0;32mor\u001b[0m \u001b[0mindicator\u001b[0m \u001b[0mmatrix\u001b[0m\u001b[0;34m\u001b[0m\u001b[0;34m\u001b[0m\u001b[0m\n\u001b[1;32m     83\u001b[0m     \"\"\"\n\u001b[0;32m---> 84\u001b[0;31m     \u001b[0mcheck_consistent_length\u001b[0m\u001b[0;34m(\u001b[0m\u001b[0my_true\u001b[0m\u001b[0;34m,\u001b[0m \u001b[0my_pred\u001b[0m\u001b[0;34m)\u001b[0m\u001b[0;34m\u001b[0m\u001b[0;34m\u001b[0m\u001b[0m\n\u001b[0m\u001b[1;32m     85\u001b[0m     \u001b[0mtype_true\u001b[0m \u001b[0;34m=\u001b[0m \u001b[0mtype_of_target\u001b[0m\u001b[0;34m(\u001b[0m\u001b[0my_true\u001b[0m\u001b[0;34m)\u001b[0m\u001b[0;34m\u001b[0m\u001b[0;34m\u001b[0m\u001b[0m\n\u001b[1;32m     86\u001b[0m     \u001b[0mtype_pred\u001b[0m \u001b[0;34m=\u001b[0m \u001b[0mtype_of_target\u001b[0m\u001b[0;34m(\u001b[0m\u001b[0my_pred\u001b[0m\u001b[0;34m)\u001b[0m\u001b[0;34m\u001b[0m\u001b[0;34m\u001b[0m\u001b[0m\n",
            "\u001b[0;32m/usr/local/lib/python3.8/dist-packages/sklearn/utils/validation.py\u001b[0m in \u001b[0;36mcheck_consistent_length\u001b[0;34m(*arrays)\u001b[0m\n\u001b[1;32m    330\u001b[0m     \u001b[0muniques\u001b[0m \u001b[0;34m=\u001b[0m \u001b[0mnp\u001b[0m\u001b[0;34m.\u001b[0m\u001b[0munique\u001b[0m\u001b[0;34m(\u001b[0m\u001b[0mlengths\u001b[0m\u001b[0;34m)\u001b[0m\u001b[0;34m\u001b[0m\u001b[0;34m\u001b[0m\u001b[0m\n\u001b[1;32m    331\u001b[0m     \u001b[0;32mif\u001b[0m \u001b[0mlen\u001b[0m\u001b[0;34m(\u001b[0m\u001b[0muniques\u001b[0m\u001b[0;34m)\u001b[0m \u001b[0;34m>\u001b[0m \u001b[0;36m1\u001b[0m\u001b[0;34m:\u001b[0m\u001b[0;34m\u001b[0m\u001b[0;34m\u001b[0m\u001b[0m\n\u001b[0;32m--> 332\u001b[0;31m         raise ValueError(\n\u001b[0m\u001b[1;32m    333\u001b[0m             \u001b[0;34m\"Found input variables with inconsistent numbers of samples: %r\"\u001b[0m\u001b[0;34m\u001b[0m\u001b[0;34m\u001b[0m\u001b[0m\n\u001b[1;32m    334\u001b[0m             \u001b[0;34m%\u001b[0m \u001b[0;34m[\u001b[0m\u001b[0mint\u001b[0m\u001b[0;34m(\u001b[0m\u001b[0ml\u001b[0m\u001b[0;34m)\u001b[0m \u001b[0;32mfor\u001b[0m \u001b[0ml\u001b[0m \u001b[0;32min\u001b[0m \u001b[0mlengths\u001b[0m\u001b[0;34m]\u001b[0m\u001b[0;34m\u001b[0m\u001b[0;34m\u001b[0m\u001b[0m\n",
            "\u001b[0;31mValueError\u001b[0m: Found input variables with inconsistent numbers of samples: [25, 500]"
          ]
        }
      ]
    },
    {
      "cell_type": "code",
      "source": [
        "predictions = numpy.array([])\n",
        "labels = numpy.array([])\n",
        "\n",
        "for image_batch, labels_batch in test_dataset:\n",
        "    labels = numpy.append(labels, labels_batch)\n",
        "    batch_predictions = model1.predict(image_batch)\n",
        "    predictions = numpy.concatenate([predictions, numpy.argmax(batch_predictions, axis=1)])"
      ],
      "metadata": {
        "id": "nSMeuaULRUzw",
        "outputId": "e02faaa7-94d7-4e4f-b1a7-7755bd02a1a2",
        "colab": {
          "base_uri": "https://localhost:8080/"
        }
      },
      "execution_count": 43,
      "outputs": [
        {
          "output_type": "stream",
          "name": "stdout",
          "text": [
            "1/1 [==============================] - 0s 73ms/step\n",
            "1/1 [==============================] - 0s 19ms/step\n",
            "1/1 [==============================] - 0s 19ms/step\n",
            "1/1 [==============================] - 0s 19ms/step\n",
            "1/1 [==============================] - 0s 19ms/step\n",
            "1/1 [==============================] - 0s 20ms/step\n",
            "1/1 [==============================] - 0s 19ms/step\n",
            "1/1 [==============================] - 0s 19ms/step\n",
            "1/1 [==============================] - 0s 20ms/step\n",
            "1/1 [==============================] - 0s 25ms/step\n",
            "1/1 [==============================] - 0s 20ms/step\n",
            "1/1 [==============================] - 0s 19ms/step\n",
            "1/1 [==============================] - 0s 20ms/step\n",
            "1/1 [==============================] - 0s 19ms/step\n",
            "1/1 [==============================] - 0s 20ms/step\n",
            "1/1 [==============================] - 0s 19ms/step\n",
            "1/1 [==============================] - 0s 19ms/step\n",
            "1/1 [==============================] - 0s 19ms/step\n",
            "1/1 [==============================] - 0s 20ms/step\n",
            "1/1 [==============================] - 0s 19ms/step\n",
            "1/1 [==============================] - 0s 19ms/step\n",
            "1/1 [==============================] - 0s 20ms/step\n",
            "1/1 [==============================] - 0s 19ms/step\n",
            "1/1 [==============================] - 0s 19ms/step\n",
            "1/1 [==============================] - 0s 19ms/step\n"
          ]
        }
      ]
    },
    {
      "cell_type": "code",
      "source": [
        "import plotly.graph_objects as go\n",
        "\n",
        "matrix = confusion_matrix(labels, predictions)\n",
        "fig = go.Figure (data=go.Heatmap(\n",
        "    z=matrix, x=class_names, \n",
        "    y=class_names,hoverongaps = False))\n",
        "fig.write_html('matrix.html')"
      ],
      "metadata": {
        "id": "FQ7Tk3IpSxsD"
      },
      "execution_count": 45,
      "outputs": []
    },
    {
      "cell_type": "code",
      "source": [
        "save_csv = []\n",
        "save_csv2 = []\n",
        "for direct in class_names:\n",
        "    for img in os.listdir(train_data_dir + '/' + direct):\n",
        "        image = load_img(train_data_dir + '/' + direct + '/' + img, target_size=(img_width, img_height))\n",
        "        input_arr = tf.keras.preprocessing.image.img_to_array(image)\n",
        "        input_arr = np.array([input_arr])\n",
        "        helper = model.predict(input_arr)\n",
        "        predictions = helper.ravel().tolist()\n",
        "        predictions = [img] + predictions + [helper.argmax(axis=-1)[0]]\n",
        "        save_csv.append(predictions)\n",
        "\n",
        "save_csv = pd.DataFrame(save_csv)\n",
        "save_csv.to_csv('train.csv', index=False)\n",
        "\n",
        "for direct in class_names:\n",
        "    for img in os.listdir(test_data_dir + '/' + direct):\n",
        "        image = load_img(test_data_dir + '/' + direct + '/' + img, target_size=(img_width, img_height))\n",
        "        input_arr = tf.keras.preprocessing.image.img_to_array(image)\n",
        "        input_arr = np.array([input_arr])\n",
        "        helper = model.predict(input_arr)\n",
        "        predictions = helper.ravel().tolist()\n",
        "        predictions = [img] + predictions + [helper.argmax(axis=-1)[0]]\n",
        "        save_csv2.append(predictions)\n",
        "\n",
        "save_csv2 = pd.DataFrame(save_csv)\n",
        "save_csv2.to_csv('test.csv', index=False)\n",
        "\n",
        "train_data = pd.read_csv('train.csv')\n",
        "train_data = train_data.drop(columns=['0'])\n",
        "\n",
        "x_train_data = train_data.drop(columns=['1001'])\n",
        "y_train_data = train_data['1001']\n",
        "\n",
        "test_data = pd.read_csv('test.csv')\n",
        "test_data = test_data.drop(columns=['0'])\n",
        "\n",
        "x_test_data = test_data.drop(columns=['1001'])\n",
        "y_test_data = test_data['1001']\n",
        "\n",
        "clf = make_pipeline(StandardScaler(), SVC(gamma='auto'))\n",
        "clf.fit(x_train_data, y_train_data)\n",
        "yTestPredict = clf.predict(x_test_data).round()\n",
        "print('SVC score: ' + str(clf.score(x_test_data, y_test_data)))\n",
        "#%%\n",
        "matrix = confusion_matrix(y_test_data.values, yTestPredict)\n",
        "fig = go.Figure(data=go.Heatmap(\n",
        "    z=matrix,\n",
        "    x=class_names,\n",
        "    y=class_names,\n",
        "    hoverongaps=False))\n",
        "fig.write_html('matrixSVC.html')"
      ],
      "metadata": {
        "id": "t21HP1rIX_v9"
      },
      "execution_count": null,
      "outputs": []
    }
  ],
  "metadata": {
    "accelerator": "GPU",
    "colab": {
      "provenance": [],
      "machine_shape": "hm",
      "mount_file_id": "1X1BN0LhTHxpdmZlHOjpceorgq_hh0dVE",
      "authorship_tag": "ABX9TyNl9fHtolX1OpgnAKHh16dm",
      "include_colab_link": true
    },
    "gpuClass": "premium",
    "kernelspec": {
      "display_name": "Python 3",
      "name": "python3"
    },
    "language_info": {
      "name": "python"
    }
  },
  "nbformat": 4,
  "nbformat_minor": 0
}